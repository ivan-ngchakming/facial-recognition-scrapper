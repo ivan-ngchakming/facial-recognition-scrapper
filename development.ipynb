{
 "cells": [
  {
   "cell_type": "code",
   "execution_count": 54,
   "metadata": {},
   "outputs": [],
   "source": [
    "from bs4 import BeautifulSoup\n",
    "import requests\n",
    "import json"
   ]
  },
  {
   "cell_type": "code",
   "execution_count": 52,
   "metadata": {},
   "outputs": [],
   "source": [
    "# Constants\n",
    "API_URL = 'http://localhost:5000'\n",
    "\n",
    "BASE_URL = \"https://www.imdb.com\"\n",
    "\n",
    "MAX_RESULT_PER_PAGE = 250\n",
    "URL = f\"{BASE_URL}/search/name/?adult=include&count=250\"\n",
    "\n",
    "TOTAL = 11_922_407\n"
   ]
  },
  {
   "cell_type": "code",
   "execution_count": 11,
   "metadata": {},
   "outputs": [],
   "source": [
    "r = requests.get(URL + 'start=1')\n",
    "soup = BeautifulSoup(r.content, 'html.parser')"
   ]
  },
  {
   "cell_type": "code",
   "execution_count": 67,
   "metadata": {},
   "outputs": [
    {
     "data": {
      "text/plain": [
       "'https://m.media-amazon.com/images/M/MV5BMjA4NDkyODA3M15BMl5BanBnXkFtZTgwMzUzMjYzNzM@.jpg'"
      ]
     },
     "execution_count": 67,
     "metadata": {},
     "output_type": "execute_result"
    }
   ],
   "source": [
    "def get_full_img_url(url):\n",
    "    \"\"\"\n",
    "    'https://m.media-amazon.com/images/M/MV5BMjA4NDkyODA3M15BMl5BanBnXkFtZTgwMzUzMjYzNzM@._V1_UY209_CR34,0,140,209_AL_.jpg'\n",
    "    to\n",
    "    https://m.media-amazon.com/images/M/MV5BMjA4NDkyODA3M15BMl5BanBnXkFtZTgwMzUzMjYzNzM@.jpg\n",
    "    \"\"\"\n",
    "    base_path = url.split('._V1_')[0]\n",
    "    ext = url.split('.')[-1]\n",
    "    return base_path + '.' + ext\n",
    "    \n",
    "get_full_img_url('https://m.media-amazon.com/images/M/MV5BMjA4NDkyODA3M15BMl5BanBnXkFtZTgwMzUzMjYzNzM@._V1_UY209_CR34,0,140,209_AL_.jpg')"
   ]
  },
  {
   "cell_type": "code",
   "execution_count": 68,
   "metadata": {},
   "outputs": [
    {
     "data": {
      "text/plain": [
       "'https://www.imdb.com/name/nm1720028'"
      ]
     },
     "execution_count": 68,
     "metadata": {},
     "output_type": "execute_result"
    }
   ],
   "source": [
    "items = soup.find_all(attrs={\"class\": \"lister-item mode-detail\"})\n",
    "\n",
    "item = items[0]\n",
    "image_url = get_full_img_url(item.img.get('src'))\n",
    "actor_page_url = BASE_URL + item.a.get('href')\n",
    "actor_page_url"
   ]
  },
  {
   "cell_type": "code",
   "execution_count": 22,
   "metadata": {},
   "outputs": [],
   "source": [
    "actor_page_r = requests.get(actor_page_url)\n",
    "actor_page_soup = BeautifulSoup(actor_page_r.content, 'html.parser')"
   ]
  },
  {
   "cell_type": "code",
   "execution_count": 69,
   "metadata": {},
   "outputs": [
    {
     "data": {
      "text/plain": [
       "{'name': 'Amber Heard',\n",
       " 'firstname': 'Amber',\n",
       " 'middlename': '',\n",
       " 'lastname': 'Heard',\n",
       " 'birth': '1986-4-22',\n",
       " 'birth_place': 'Austin, Texas, USA',\n",
       " 'source': 'https://www.imdb.com/name/nm1720028',\n",
       " 'image': 'https://m.media-amazon.com/images/M/MV5BMjA4NDkyODA3M15BMl5BanBnXkFtZTgwMzUzMjYzNzM@.jpg'}"
      ]
     },
     "execution_count": 69,
     "metadata": {},
     "output_type": "execute_result"
    }
   ],
   "source": [
    "# Name\n",
    "name = actor_page_soup.title.text.replace(' - IMDb', '')\n",
    "firstname, *middlename, lastname = name.split(' ')\n",
    "middlename = ' '.join(middlename)\n",
    "\n",
    "# Birth date and place\n",
    "born_info = actor_page_soup.find(id='name-born-info')\n",
    "birth = born_info.time.get('datetime')\n",
    "birth_place = born_info.find_all('a')[-1].text\n",
    "\n",
    "data = {\n",
    "    \"name\": name,\n",
    "    \"firstname\": firstname,\n",
    "    \"middlename\": middlename,\n",
    "    \"lastname\": lastname,\n",
    "    \"birth\": birth,\n",
    "    \"birth_place\": birth_place,\n",
    "    \"source\": actor_page_url,\n",
    "    \"image\": image_url,\n",
    "}\n",
    "\n",
    "data"
   ]
  },
  {
   "cell_type": "code",
   "execution_count": 83,
   "metadata": {},
   "outputs": [
    {
     "data": {
      "text/plain": [
       "{'id': '3916dd67-4795-4f68-9f02-36d914d2094b',\n",
       " 'created_date': '2022-05-22 17:57:42',\n",
       " 'last_name': 'Heard',\n",
       " 'name': 'Amber Heard',\n",
       " 'birth': '1986-04-22',\n",
       " 'thumbnail_id': None,\n",
       " 'thumbnail': None,\n",
       " 'middle_name': '',\n",
       " 'sex': None,\n",
       " 'updated_date': None,\n",
       " 'faces': [{'id': '729bbed5-e050-4533-aa5d-f8eed2bad53c',\n",
       "   'created_date': '2022-05-22 18:00:59',\n",
       "   'photo_id': 'eb9ac457-6f5e-4305-8746-4f9c571bc4b6',\n",
       "   'location': [79.48835754394531,\n",
       "    47.92854690551758,\n",
       "    179.94769287109375,\n",
       "    182.1373748779297],\n",
       "   'photo': {'id': 'eb9ac457-6f5e-4305-8746-4f9c571bc4b6',\n",
       "    'created_date': '2022-05-22 18:00:59',\n",
       "    'url': 'https://m.media-amazon.com/images/M/MV5BMjA4NDkyODA3M15BMl5BanBnXkFtZTgwMzUzMjYzNzM@.jpg',\n",
       "    'height': 272,\n",
       "    'updated_date': None,\n",
       "    'sha256_hash': '7d37e06be3a276d950aa96253d16c46cd1c18cda2ec45dd0261f4d93b719a159',\n",
       "    'width': 272},\n",
       "   'profile': {'id': '3916dd67-4795-4f68-9f02-36d914d2094b',\n",
       "    'created_date': '2022-05-22 17:57:42',\n",
       "    'last_name': 'Heard',\n",
       "    'name': 'Amber Heard',\n",
       "    'birth': '1986-04-22',\n",
       "    'attributes': [{'id': '6810d592-7111-43d5-91ad-3ab7900787b3',\n",
       "      'created_date': '2022-05-22 17:57:42',\n",
       "      'key': 'birth_place',\n",
       "      'updated_date': None,\n",
       "      'profile_id': '3916dd67-4795-4f68-9f02-36d914d2094b',\n",
       "      'value': 'Austin, Texas, USA'},\n",
       "     {'id': 'dd578471-32b9-42dc-ae02-37e9a17ad651',\n",
       "      'created_date': '2022-05-22 17:57:42',\n",
       "      'key': 'imdb',\n",
       "      'updated_date': None,\n",
       "      'profile_id': '3916dd67-4795-4f68-9f02-36d914d2094b',\n",
       "      'value': 'https://www.imdb.com/name/nm1720028'}],\n",
       "    'thumbnail_id': None,\n",
       "    'thumbnail': None,\n",
       "    'middle_name': '',\n",
       "    'sex': None,\n",
       "    'updated_date': None,\n",
       "    'first_name': 'Amber'},\n",
       "   'updated_date': '2022-05-22 18:09:03',\n",
       "   'profile_id': '3916dd67-4795-4f68-9f02-36d914d2094b'}],\n",
       " 'first_name': 'Amber',\n",
       " 'attributes': {'birth_place': 'Austin, Texas, USA',\n",
       "  'imdb': 'https://www.imdb.com/name/nm1720028'}}"
      ]
     },
     "execution_count": 83,
     "metadata": {},
     "output_type": "execute_result"
    }
   ],
   "source": [
    "def get_or_create_profile(data):\n",
    "    r = requests.get(\n",
    "        API_URL + f'/profiles?sort=created_date,desc&filter.name=$eq:{data[\"name\"]}'\n",
    "    )\n",
    "    res = json.loads(r.text)\n",
    "    if int(res[\"meta\"][\"total\"]) >= 1:\n",
    "        return res[\"data\"][0]\n",
    "    \n",
    "    r = requests.post(\n",
    "        API_URL + \"/profiles\",\n",
    "        json={\n",
    "            \"name\": data[\"name\"],\n",
    "            \"birth\": data[\"birth\"],\n",
    "            \"first_name\": data[\"firstname\"],\n",
    "            \"last_name\": data[\"lastname\"],\n",
    "            \"middle_name\": data[\"middlename\"],\n",
    "            \"attributes\": {\n",
    "                \"birth_place\": data[\"birth_place\"],\n",
    "                \"imdb\": data[\"source\"],\n",
    "            },\n",
    "        },\n",
    "    )\n",
    "    return json.loads(r.text)\n",
    "\n",
    "profile = get_or_create_profile(data)\n",
    "profile"
   ]
  },
  {
   "cell_type": "code",
   "execution_count": 85,
   "metadata": {},
   "outputs": [
    {
     "data": {
      "text/plain": [
       "{'id': 'eb9ac457-6f5e-4305-8746-4f9c571bc4b6',\n",
       " 'created_date': '2022-05-22 18:00:59',\n",
       " 'url': 'https://m.media-amazon.com/images/M/MV5BMjA4NDkyODA3M15BMl5BanBnXkFtZTgwMzUzMjYzNzM@.jpg',\n",
       " 'height': 272,\n",
       " 'updated_date': None,\n",
       " 'sha256_hash': '7d37e06be3a276d950aa96253d16c46cd1c18cda2ec45dd0261f4d93b719a159',\n",
       " 'faces': [{'id': '729bbed5-e050-4533-aa5d-f8eed2bad53c',\n",
       "   'created_date': '2022-05-22 18:00:59',\n",
       "   'photo_id': 'eb9ac457-6f5e-4305-8746-4f9c571bc4b6',\n",
       "   'location': [79.48835754394531,\n",
       "    47.92854690551758,\n",
       "    179.94769287109375,\n",
       "    182.1373748779297],\n",
       "   'profile': {'id': '3916dd67-4795-4f68-9f02-36d914d2094b',\n",
       "    'created_date': '2022-05-22 17:57:42',\n",
       "    'last_name': 'Heard',\n",
       "    'name': 'Amber Heard',\n",
       "    'birth': '1986-04-22',\n",
       "    'attributes': [{'id': '6810d592-7111-43d5-91ad-3ab7900787b3',\n",
       "      'created_date': '2022-05-22 17:57:42',\n",
       "      'key': 'birth_place',\n",
       "      'updated_date': None,\n",
       "      'profile_id': '3916dd67-4795-4f68-9f02-36d914d2094b',\n",
       "      'value': 'Austin, Texas, USA'},\n",
       "     {'id': 'dd578471-32b9-42dc-ae02-37e9a17ad651',\n",
       "      'created_date': '2022-05-22 17:57:42',\n",
       "      'key': 'imdb',\n",
       "      'updated_date': None,\n",
       "      'profile_id': '3916dd67-4795-4f68-9f02-36d914d2094b',\n",
       "      'value': 'https://www.imdb.com/name/nm1720028'}],\n",
       "    'thumbnail_id': None,\n",
       "    'thumbnail': None,\n",
       "    'middle_name': '',\n",
       "    'sex': None,\n",
       "    'updated_date': None,\n",
       "    'first_name': 'Amber'},\n",
       "   'updated_date': '2022-05-22 18:09:03',\n",
       "   'profile_id': '3916dd67-4795-4f68-9f02-36d914d2094b'}],\n",
       " 'width': 272}"
      ]
     },
     "execution_count": 85,
     "metadata": {},
     "output_type": "execute_result"
    }
   ],
   "source": [
    "r = requests.post(\n",
    "    API_URL + \"/photos\", json={\"url\": data[\"image\"]}\n",
    ")\n",
    "photo = json.loads(r.text)\n",
    "if \"error\" in photo:\n",
    "    photo = photo[\"data\"]\n",
    "photo"
   ]
  },
  {
   "cell_type": "code",
   "execution_count": 76,
   "metadata": {},
   "outputs": [],
   "source": [
    "for face in photo[\"faces\"]:\n",
    "    requests.patch(API_URL + f'/faces/{face[\"id\"]}', json={\"profile_id\": profile[\"id\"]})\n"
   ]
  },
  {
   "cell_type": "code",
   "execution_count": 89,
   "metadata": {},
   "outputs": [
    {
     "data": {
      "text/plain": [
       "True"
      ]
     },
     "execution_count": 89,
     "metadata": {},
     "output_type": "execute_result"
    }
   ],
   "source": [
    "profile[\"updated_date\"] != profile[\"created_date\"]"
   ]
  }
 ],
 "metadata": {
  "interpreter": {
   "hash": "61080dc20b18e1fdb57fae17efead4af66a006bf3baf07a36af10a553e7dd6e4"
  },
  "kernelspec": {
   "display_name": "Python 3.10.4 ('facial-recognition-scrapper-OtgAZpmP')",
   "language": "python",
   "name": "python3"
  },
  "language_info": {
   "codemirror_mode": {
    "name": "ipython",
    "version": 3
   },
   "file_extension": ".py",
   "mimetype": "text/x-python",
   "name": "python",
   "nbconvert_exporter": "python",
   "pygments_lexer": "ipython3",
   "version": "3.10.4"
  },
  "orig_nbformat": 4
 },
 "nbformat": 4,
 "nbformat_minor": 2
}
